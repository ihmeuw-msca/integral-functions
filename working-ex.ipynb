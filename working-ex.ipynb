{
 "cells": [
  {
   "cell_type": "code",
   "execution_count": 1,
   "metadata": {},
   "outputs": [],
   "source": [
    "import numpy as np\n",
    "import matplotlib.pyplot as plt\n",
    "import cvxpy as cp\n",
    "from scipy.integrate import quad, newton_cotes\n",
    "\n",
    "from integral_functions.weight_functions import get_weights"
   ]
  },
  {
   "cell_type": "markdown",
   "metadata": {},
   "source": [
    "First, I just want to write everything down so I have it front of me, and so I can define all the relevant notation. We want to find the vector $\\theta$ that minimizes the general negative log-likelihood:\n",
    "$\\begin{align}\n",
    "    -l(\\theta ;, y) \\approx -y\\log (\\sigma (q_\\theta)) - (1-y)\\log (1 - \\sigma (q_\\theta))\n",
    "\\end{align}$\n",
    "where $\\sigma$ is the link function, and\n",
    "$\\begin{align}\n",
    "    q_\\theta = \\sum_{i=1}^{n_b - 1}P_i h_\\theta (m_i) + P_L h_\\theta (m_1) + P_R h_\\theta (m_{n_b}).\n",
    "\\end{align}$\n",
    "Here, $P_i = (x_{i+1} - x_i)p_i$, where $x_{i+1} - x_i$ is the population in a bin $i$, and $p_i$ is the population density within each bin. We make the modelling choice that each bin has a piecewise constant density. On the boundaries, we have $P_L = (x_2 - L)p_1$ and $P_R = (U - x_{n_b})p_{n_b}$. Here $y$ is prevalence, or something along those lines.\n",
    "\n",
    "Importantly, we have information that we know and we have information we don't know. Essentially, we know the approximate values of the integrals of the form\n",
    "$\\begin{align}\n",
    "    \\int_{a}^b f_k(x)p_i(x) \\mathrm{d}x\n",
    "\\end{align}$\n",
    "for a generic function $f$; we approximate this integral in the sums above with the $P_i`s$. Obviously, we also know the $p_i`s$, since we need this to compute the integrals. We also know the values of $y$, which are data that may be of the form of counts or the like. For now, I will generate all of this data, and assume that $y\\sim\\mathcal{N}(\\mu,\\sigma^2 I)$. However, we don't know the overall function $f$, which we can write as\n",
    "$$\n",
    "f(x) = \\sum_{i=1}^{n_b} \\theta_k f_k(x).\n",
    "$$\n",
    "Thus, we seek the vector $\\theta$ to fit this function $f$, given the values we do know of $f_k$."
   ]
  },
  {
   "cell_type": "markdown",
   "metadata": {},
   "source": [
    "Now we are going to write some code to see if some of our ideas our working. First, we'll be looking at the integral discretization for some function whose expectation we should know. We are going to assume that $\\sigma$ is the identity function so as to not think about it in this moment. In our example, we are going to assume that the $x$ values are ages."
   ]
  },
  {
   "cell_type": "code",
   "execution_count": 22,
   "metadata": {},
   "outputs": [],
   "source": [
    "L = 20\n",
    "U = 40\n",
    "discretizations = [20, 25, 30, 35, 40]\n",
    "midpoints = [\n",
    "    (discretizations[i] + (discretizations[i - 1])) / 2\n",
    "    for i in range(1, len(discretizations))\n",
    "]\n",
    "\n",
    "# Actual age bins\n",
    "age_bins = [(20, 24), (25, 29), (30, 34), (35, 39)]\n",
    "\n",
    "random_data = []\n",
    "for start, end in age_bins:\n",
    "    num_data_points = np.random.randint(5, 20)\n",
    "    ages = np.random.randint(start, end + 1, num_data_points)\n",
    "    random_data.append(ages)"
   ]
  },
  {
   "cell_type": "code",
   "execution_count": 23,
   "metadata": {},
   "outputs": [],
   "source": [
    "# Get population for each bin\n",
    "populations = np.array([arr.shape[0] for arr in random_data])\n",
    "total_population = np.sum(populations)\n",
    "\n",
    "# Here we assume constant density in each bin\n",
    "population_densities = populations / total_population"
   ]
  },
  {
   "cell_type": "code",
   "execution_count": 24,
   "metadata": {},
   "outputs": [],
   "source": [
    "# Define the function we're integrating over\n",
    "def f(x):\n",
    "    return x**2\n",
    "\n",
    "\n",
    "def int_f(x):\n",
    "    return x**3 / 3"
   ]
  },
  {
   "cell_type": "markdown",
   "metadata": {},
   "source": [
    "We now have the necessary information to approximate the integrals"
   ]
  },
  {
   "cell_type": "code",
   "execution_count": 25,
   "metadata": {},
   "outputs": [
    {
     "data": {
      "text/plain": [
       "4507.440476190476"
      ]
     },
     "execution_count": 25,
     "metadata": {},
     "output_type": "execute_result"
    }
   ],
   "source": [
    "inner_integral_values = [\n",
    "    f(midpoints[x])\n",
    "    * population_densities[x]\n",
    "    * (discretizations[x + 1] - discretizations[x])\n",
    "    for x in range(len(midpoints))\n",
    "]\n",
    "\n",
    "weights = [\n",
    "    population_densities[x] * (discretizations[x + 1] - discretizations[x])\n",
    "    for x in range(len(midpoints))\n",
    "]\n",
    "\n",
    "function_evaluations = [f(midpoint) for midpoint in midpoints]\n",
    "\n",
    "np.dot(np.array(weights), np.array(function_evaluations))\n",
    "\n",
    "# total_integral = np.sum(inner_integral_values)\n",
    "# total_integral"
   ]
  },
  {
   "cell_type": "code",
   "execution_count": 39,
   "metadata": {},
   "outputs": [
    {
     "data": {
      "text/plain": [
       "3614.3973214285716"
      ]
     },
     "execution_count": 39,
     "metadata": {},
     "output_type": "execute_result"
    }
   ],
   "source": [
    "newton_weights = newton_cotes(3)[0]\n",
    "newton_weights *= np.diff(discretizations)\n",
    "newton_weights *= population_densities\n",
    "np.dot(np.array(newton_weights), np.array(function_evaluations))"
   ]
  },
  {
   "cell_type": "code",
   "execution_count": 36,
   "metadata": {},
   "outputs": [
    {
     "data": {
      "text/plain": [
       "array([0.44642857, 1.69642857, 1.51785714, 0.35714286])"
      ]
     },
     "execution_count": 36,
     "metadata": {},
     "output_type": "execute_result"
    }
   ],
   "source": [
    "newton_weights"
   ]
  },
  {
   "cell_type": "code",
   "execution_count": 37,
   "metadata": {},
   "outputs": [
    {
     "data": {
      "text/plain": [
       "[1.1904761904761905, 1.507936507936508, 1.349206349206349, 0.9523809523809523]"
      ]
     },
     "execution_count": 37,
     "metadata": {},
     "output_type": "execute_result"
    }
   ],
   "source": [
    "weights"
   ]
  },
  {
   "cell_type": "code",
   "execution_count": 38,
   "metadata": {},
   "outputs": [
    {
     "data": {
      "text/plain": [
       "4517.857142857142"
      ]
     },
     "execution_count": 38,
     "metadata": {},
     "output_type": "execute_result"
    }
   ],
   "source": [
    "check_integral_values = [\n",
    "    population_densities[x]\n",
    "    * (int_f(discretizations[x + 1]) - int_f(discretizations[x]))\n",
    "    for x in range(len(population_densities))\n",
    "]\n",
    "np.sum(check_integral_values)"
   ]
  },
  {
   "cell_type": "markdown",
   "metadata": {},
   "source": [
    "Having done a very toy example, we are now going to define functions that will do a lot of this generally so we can do this for multiple $k$. Note that we are running this on bins that are decided *randomly*. This is an intentional decision since it is easier to run the code and to not have to generate everything by hand for every run through of the function. However, we are still deterministically calculating the discretization points that induce the age bins. As a consequence, we are also deterministically generating the grid points (the midpoints). This is ok because we just need to be able to calculate the weights. Also, we can check that this makes sense because we explicitly define our functions and their integrals so as to calculate the exact integrals later on."
   ]
  },
  {
   "cell_type": "code",
   "execution_count": 186,
   "metadata": {},
   "outputs": [],
   "source": [
    "def get_discretizations(L, U, grid_points):\n",
    "    grid_points = np.asarray(grid_points)\n",
    "    grid_len = grid_points.shape[0]\n",
    "\n",
    "    def grid_to_disc(discpoint, gridpoint):\n",
    "        assert gridpoint > discpoint\n",
    "        return 2 * gridpoint - discpoint\n",
    "\n",
    "    disc_list = [grid_to_disc(L, grid_points[0])]\n",
    "    for i in range(1, grid_len):\n",
    "        discpoint = disc_list[i - 1]\n",
    "        gridpoint = grid_points[i]\n",
    "        disc_list.append(grid_to_disc(discpoint, gridpoint))\n",
    "    disc_list.insert(0, L)\n",
    "    assert disc_list[-1] == U\n",
    "\n",
    "    return np.array(disc_list)\n",
    "\n",
    "\n",
    "def age_bin_gen(discretizations):\n",
    "    age_bins = []\n",
    "    for i in range(1, len(discretizations)):\n",
    "        first_age = discretizations[i - 1]\n",
    "        second_age = discretizations[i] - 1\n",
    "        age_bins.append((first_age, second_age))\n",
    "    return age_bins\n",
    "\n",
    "\n",
    "def assign_age_bins(age_bins):\n",
    "    random_data = []\n",
    "    for start, end in age_bins:\n",
    "        num_data_points = np.random.randint(5, 20)\n",
    "        ages = np.random.randint(start, end + 1, num_data_points)\n",
    "        random_data.append(ages)\n",
    "    return random_data\n",
    "\n",
    "\n",
    "def pop_density_gen(random_data):\n",
    "    # Get population for each bin\n",
    "    populations = np.array([arr.shape[0] for arr in random_data])\n",
    "    total_population = np.sum(populations)\n",
    "\n",
    "    # Here we assume constant density in each bin\n",
    "    return populations / total_population\n",
    "\n",
    "\n",
    "def get_function_evaluations(midpoints, f):\n",
    "    function_evaluations = [f(midpoint) for midpoint in midpoints]\n",
    "    return np.array(function_evaluations)\n",
    "\n",
    "\n",
    "def get_weights(L, U, population_density, grid_points):\n",
    "    discretizations = get_discretizations(L, U, grid_points)\n",
    "    # weights = []\n",
    "    # for i in range(len(population_density)):\n",
    "    #     pop = population_density[i]\n",
    "    #     # Here, you could just do np.diff() and it will acheive the same purpose.\n",
    "    #     diff = discretizations[i + 1] - discretizations[i]\n",
    "    # # After np.diff(), you could simply use * operation\n",
    "    #     weights.append(pop * diff)\n",
    "    discretizations_diff = np.diff(discretizations)\n",
    "    weights = population_density * discretizations_diff\n",
    "\n",
    "    return weights\n",
    "\n",
    "\n",
    "def check_integrals(L, U, population_density, grid_points, int_f):\n",
    "    discretizations = get_discretizations(L, U, grid_points)\n",
    "    integrals = []\n",
    "    for x in range(len(population_density)):\n",
    "        pop = population_density[x]\n",
    "        diff = int_f(discretizations[x + 1]) - int_f(discretizations[x])\n",
    "        integrals.append(pop * diff)\n",
    "    return np.array(integrals)"
   ]
  },
  {
   "cell_type": "markdown",
   "metadata": {},
   "source": [
    "Now I am going to define a series of polynomial functions that will serve as our $f_k$ functions. It won't really matter which one is which. I am going to assume that $k=4$."
   ]
  },
  {
   "cell_type": "code",
   "execution_count": 187,
   "metadata": {},
   "outputs": [],
   "source": [
    "k = 4\n",
    "\n",
    "\n",
    "def f_1(x):\n",
    "    return 3 * x**2 + 0.5 * x + 3\n",
    "\n",
    "\n",
    "def int_f_1(x):\n",
    "    return x**3 + 0.25 * x**2 + 3 * x\n",
    "\n",
    "\n",
    "def f_2(x):\n",
    "    return x**3 + 27\n",
    "\n",
    "\n",
    "def int_f_2(x):\n",
    "    return 0.25 * x**4 + 27 * x\n",
    "\n",
    "\n",
    "def f_3(x):\n",
    "    return 1 / 5 * x**4 + 30 * x\n",
    "\n",
    "\n",
    "def int_f_3(x):\n",
    "    return 1 / 25 * x**5 + 15 * x**2\n",
    "\n",
    "\n",
    "def f_4(x):\n",
    "    return 42 * x + 3\n",
    "\n",
    "\n",
    "def int_f_4(x):\n",
    "    return 21 * x**2 + 3 * x\n",
    "\n",
    "\n",
    "f_list = [f_1, f_2, f_3, f_4]\n",
    "int_f_list = [int_f_1, int_f_2, int_f_3, int_f_4]\n",
    "L_list = [25, 30, 27, 19]\n",
    "U_list = [45, 47, 43, 31]\n",
    "grid_list = [\n",
    "    [27.5, 32.5, 37.5, 42.5],\n",
    "    [(30 + 34) / 2, (34 + 38) / 2, (38 + 42) / 2, (42 + 47) / 2],\n",
    "    [(27 + 32) / 2, (32 + 37) / 2, (37 + 42) / 2, (42 + 43) / 2],\n",
    "    [(19 + 22) / 2, (22 + 25) / 2, (25 + 28) / 2, (28 + 31) / 2],\n",
    "]\n",
    "discretizations = [\n",
    "    get_discretizations(L_list[i], U_list[i], grid_list[i]) for i in range(k)\n",
    "]\n",
    "population_densities = [\n",
    "    pop_density_gen(assign_age_bins(age_bin_gen(discretization)))\n",
    "    for discretization in discretizations\n",
    "]\n",
    "weights = [\n",
    "    get_weights(L_list[i], U_list[i], population_densities[i], grid_list[i])\n",
    "    for i in range(k)\n",
    "]\n",
    "function_evaluations = [\n",
    "    get_function_evaluations(grid_list[i], f_list[i]) for i in range(k)\n",
    "]\n",
    "integral_approx = [np.dot(weights[i], function_evaluations[i]) for i in range(k)]\n",
    "integrals = [\n",
    "    np.sum(\n",
    "        check_integrals(\n",
    "            L_list[i], U_list[i], population_densities[i], grid_list[i], int_f_list[i]\n",
    "        )\n",
    "    )\n",
    "    for i in range(k)\n",
    "]"
   ]
  },
  {
   "cell_type": "code",
   "execution_count": 188,
   "metadata": {},
   "outputs": [
    {
     "data": {
      "text/plain": [
       "[19899.598214285714, 271728.52702702704, 1229513.4405487806, 3186.0]"
      ]
     },
     "execution_count": 188,
     "metadata": {},
     "output_type": "execute_result"
    }
   ],
   "source": [
    "integral_approx"
   ]
  },
  {
   "cell_type": "code",
   "execution_count": 189,
   "metadata": {},
   "outputs": [
    {
     "data": {
      "text/plain": [
       "[19930.848214285714, 272568.72972972976, 1239500.003902439, 3186.0]"
      ]
     },
     "execution_count": 189,
     "metadata": {},
     "output_type": "execute_result"
    }
   ],
   "source": [
    "integrals"
   ]
  },
  {
   "cell_type": "code",
   "execution_count": 190,
   "metadata": {},
   "outputs": [
    {
     "data": {
      "text/plain": [
       "[array([0.625     , 1.60714286, 1.42857143, 1.33928571]),\n",
       " array([0.75675676, 1.18918919, 0.75675676, 1.62162162]),\n",
       " array([0.97560976, 1.34146341, 0.97560976, 0.34146341]),\n",
       " array([0.58928571, 0.80357143, 0.91071429, 0.69642857])]"
      ]
     },
     "execution_count": 190,
     "metadata": {},
     "output_type": "execute_result"
    }
   ],
   "source": [
    "weights"
   ]
  },
  {
   "cell_type": "markdown",
   "metadata": {},
   "source": [
    "From the above, we can tell that everything is reasonably accurate. Now, we are going to collect our data in a more organized fashion, collecting all the weights into a matrix."
   ]
  },
  {
   "cell_type": "code",
   "execution_count": 171,
   "metadata": {},
   "outputs": [],
   "source": [
    "W = np.vstack(weights)"
   ]
  },
  {
   "cell_type": "code",
   "execution_count": 172,
   "metadata": {},
   "outputs": [
    {
     "data": {
      "text/plain": [
       "array([[0.9375    , 0.9375    , 1.875     , 1.25      ],\n",
       "       [1.2244898 , 1.14285714, 1.14285714, 0.6122449 ],\n",
       "       [1.66666667, 1.77083333, 0.9375    , 0.125     ],\n",
       "       [0.86538462, 1.03846154, 0.80769231, 0.28846154]])"
      ]
     },
     "execution_count": 172,
     "metadata": {},
     "output_type": "execute_result"
    }
   ],
   "source": [
    "W"
   ]
  },
  {
   "cell_type": "markdown",
   "metadata": {},
   "source": [
    "First, we are going to assign a matrix $X$ that will serve as the design matrix. We are also going to generate a $y$ vector so we can do inference on $\\theta$ according to the following functional form:\n",
    "$$ y = X\\theta .\n",
    "$$"
   ]
  },
  {
   "cell_type": "code",
   "execution_count": 173,
   "metadata": {},
   "outputs": [],
   "source": [
    "X = np.array(\n",
    "    [\n",
    "        [-27.3, 54.8, 89.7, 91.2],\n",
    "        [12.5, 90.6, -11.03, 42.4],\n",
    "        [67.5, -59.23, 74.32, 77.7],\n",
    "        [56.421, 24.39, 34, -81.215],\n",
    "    ]\n",
    ")\n",
    "\n",
    "y = np.random.randint(10, size=k)\n",
    "\n",
    "# theta_true = np.linalg.inv(X.T @ X) @ X.T @ y\n",
    "theta_true = np.linalg.inv(X.T) @ y"
   ]
  },
  {
   "cell_type": "code",
   "execution_count": 174,
   "metadata": {},
   "outputs": [
    {
     "data": {
      "text/plain": [
       "array([0.02331059, 0.08822944, 0.03990121, 0.08578684])"
      ]
     },
     "execution_count": 174,
     "metadata": {},
     "output_type": "execute_result"
    }
   ],
   "source": [
    "theta_true"
   ]
  },
  {
   "cell_type": "markdown",
   "metadata": {},
   "source": [
    "Now we want to run a regression on our problem. To do this, we assign a $z$ vector of dimension $4\\times 1$ of known outcomes where we assume $z = Wy + \\epsilon$, where $\\epsilon \\sim \\mathcal{N}(0,I)$. We also assume an $X$ matrix of known covariates of size $4\\times 4$ (which is the same as in the example immemdiately preceding). We can then do do inference on our unknown parameter $\\theta$ by\n",
    "$$\n",
    "    \\hat\\theta = ((WX)^\\top (WX))^{-1} (WX)z.\n",
    "$$"
   ]
  },
  {
   "cell_type": "code",
   "execution_count": 175,
   "metadata": {
    "notebookRunGroups": {
     "groupValue": ""
    }
   },
   "outputs": [],
   "source": [
    "z = W @ y + np.random.randn(k)\n",
    "\n",
    "WX = W @ X\n",
    "varWX = np.linalg.inv(WX.T @ WX)\n",
    "theta = varWX @ WX.T @ z"
   ]
  },
  {
   "cell_type": "code",
   "execution_count": 176,
   "metadata": {},
   "outputs": [
    {
     "data": {
      "text/plain": [
       "array([ 0.13187651,  0.12378492, -0.0073583 ,  0.02024947])"
      ]
     },
     "execution_count": 176,
     "metadata": {},
     "output_type": "execute_result"
    }
   ],
   "source": [
    "theta"
   ]
  },
  {
   "cell_type": "code",
   "execution_count": 177,
   "metadata": {},
   "outputs": [
    {
     "data": {
      "text/plain": [
       "Text(0, 0.5, '$\\\\theta_i$ value')"
      ]
     },
     "execution_count": 177,
     "metadata": {},
     "output_type": "execute_result"
    },
    {
     "data": {
      "image/png": "[encoded data removed]",
      "text/plain": [
       "<Figure size 640x480 with 1 Axes>"
      ]
     },
     "metadata": {},
     "output_type": "display_data"
    }
   ],
   "source": [
    "k_array = np.arange(0, k)\n",
    "plt.plot(k_array, theta, label=r\"Approx $\\theta$\")\n",
    "plt.plot(k_array, theta_true, label=r\"True $\\theta$\")\n",
    "plt.legend()\n",
    "plt.xlabel(\"Observation number\")\n",
    "plt.ylabel(r\"$\\theta_i$ value\")"
   ]
  },
  {
   "cell_type": "code",
   "execution_count": 184,
   "metadata": {},
   "outputs": [],
   "source": [
    "num_trials = 1000\n",
    "# theta_true_list = []\n",
    "theta_approx_list = []\n",
    "y = np.random.randint(10, size=k)\n",
    "X = np.array(\n",
    "    [\n",
    "        [-27.3, 54.8, 89.7, 91.2],\n",
    "        [12.5, 90.6, -11.03, 42.4],\n",
    "        [67.5, -59.23, 74.32, 77.7],\n",
    "        [56.421, 24.39, 34, -81.215],\n",
    "    ]\n",
    ")\n",
    "theta_true = np.linalg.inv(X.T) @ y\n",
    "for _ in range(num_trials):\n",
    "    # X = np.random.normal(6., 5., size=(k,k))\n",
    "    # y = np.random.randint(10, size=k)\n",
    "    # theta_true = np.linalg.inv(X.T) @ y\n",
    "    # theta_true_list.append(theta_true)\n",
    "\n",
    "    z = W @ y + np.random.randn(k)\n",
    "    WX = W @ X\n",
    "    varWX = np.linalg.inv(WX.T @ WX)\n",
    "    theta = varWX @ WX.T @ z\n",
    "    theta_approx_list.append(theta)\n",
    "\n",
    "theta_approx_array = np.vstack(theta_approx_list)\n",
    "theta_approx_avg = np.mean(theta_approx_array, axis=0)\n",
    "theta_approx_std = np.std(theta_approx_array, axis=0)"
   ]
  },
  {
   "cell_type": "code",
   "execution_count": 185,
   "metadata": {},
   "outputs": [
    {
     "data": {
      "text/plain": [
       "Text(0, 0.5, '$\\\\theta_i$ value')"
      ]
     },
     "execution_count": 185,
     "metadata": {},
     "output_type": "execute_result"
    },
    {
     "data": {
      "image/png": "[encoded data removed]",
      "text/plain": [
       "<Figure size 640x480 with 1 Axes>"
      ]
     },
     "metadata": {},
     "output_type": "display_data"
    }
   ],
   "source": [
    "plt.plot(k_array, theta_approx_avg, label=r\"Approx $\\theta$\")\n",
    "plt.fill_between(k_array, theta_approx_avg - theta_approx_std, theta_approx_avg + theta_approx_std, alpha=0.2, label=\"1 Std Dev\")\n",
    "plt.plot(k_array, theta_true, label=r\"True $\\theta$\")\n",
    "plt.legend()\n",
    "plt.xlabel(\"Observation number\")\n",
    "plt.ylabel(r\"$\\theta_i$ value\")"
   ]
  },
  {
   "cell_type": "markdown",
   "metadata": {},
   "source": [
    "Next, want to test how this performs with different likelihoods, like, for instance, with binomial likelihood."
   ]
  },
  {
   "cell_type": "code",
   "execution_count": null,
   "metadata": {},
   "outputs": [],
   "source": []
  }
 ],
 "metadata": {
  "kernelspec": {
   "display_name": "correlationCorrection",
   "language": "python",
   "name": "python3"
  },
  "language_info": {
   "codemirror_mode": {
    "name": "ipython",
    "version": 3
   },
   "file_extension": ".py",
   "mimetype": "text/x-python",
   "name": "python",
   "nbconvert_exporter": "python",
   "pygments_lexer": "ipython3",
   "version": "3.12.3"
  }
 },
 "nbformat": 4,
 "nbformat_minor": 2
}
